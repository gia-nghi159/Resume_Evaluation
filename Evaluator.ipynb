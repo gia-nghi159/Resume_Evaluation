{
 "cells": [
  {
   "cell_type": "code",
   "execution_count": null,
   "id": "9480dcf6-ea99-40b9-be25-8a7a00825d25",
   "metadata": {},
   "outputs": [],
   "source": [
    "import openai\n",
    "import os\n",
    "import fitz\n",
    "from dotenv import load_dotenv\n",
    "from difflib import SequenceMatcher"
   ]
  }
 ],
 "metadata": {
  "kernelspec": {
   "display_name": "Python 3 (ipykernel)",
   "language": "python",
   "name": "python3"
  },
  "language_info": {
   "codemirror_mode": {
    "name": "ipython",
    "version": 3
   },
   "file_extension": ".py",
   "mimetype": "text/x-python",
   "name": "python",
   "nbconvert_exporter": "python",
   "pygments_lexer": "ipython3",
   "version": "3.12.7"
  }
 },
 "nbformat": 4,
 "nbformat_minor": 5
}
